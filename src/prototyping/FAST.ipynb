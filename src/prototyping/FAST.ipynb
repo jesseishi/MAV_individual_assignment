{
 "cells": [
  {
   "cell_type": "code",
   "execution_count": 8,
   "id": "fifty-feeding",
   "metadata": {},
   "outputs": [],
   "source": [
    "# Imports.\n",
    "import cv2;\n",
    "import numpy as np;\n",
    "import matplotlib.pyplot as plt\n",
    "import os"
   ]
  },
  {
   "cell_type": "code",
   "execution_count": 26,
   "id": "gross-symphony",
   "metadata": {},
   "outputs": [
    {
     "ename": "TypeError",
     "evalue": "Incorrect type of self (must be 'Feature2D' or its derivative)",
     "output_type": "error",
     "traceback": [
      "\u001b[1;31m---------------------------------------------------------------------------\u001b[0m",
      "\u001b[1;31mTypeError\u001b[0m                                 Traceback (most recent call last)",
      "\u001b[1;32m<ipython-input-26-60c5bc4ce629>\u001b[0m in \u001b[0;36m<module>\u001b[1;34m()\u001b[0m\n\u001b[0;32m      9\u001b[0m \u001b[1;33m\u001b[0m\u001b[0m\n\u001b[0;32m     10\u001b[0m \u001b[1;31m# find and draw the keypoints\u001b[0m\u001b[1;33m\u001b[0m\u001b[1;33m\u001b[0m\u001b[0m\n\u001b[1;32m---> 11\u001b[1;33m \u001b[0mkp\u001b[0m \u001b[1;33m=\u001b[0m \u001b[0mfast\u001b[0m\u001b[1;33m.\u001b[0m\u001b[0mdetect\u001b[0m\u001b[1;33m(\u001b[0m\u001b[0mimg\u001b[0m\u001b[1;33m,\u001b[0m\u001b[1;32mNone\u001b[0m\u001b[1;33m)\u001b[0m\u001b[1;33m\u001b[0m\u001b[0m\n\u001b[0m\u001b[0;32m     12\u001b[0m \u001b[0mimg2\u001b[0m \u001b[1;33m=\u001b[0m \u001b[0mcv2\u001b[0m\u001b[1;33m.\u001b[0m\u001b[0mdrawKeypoints\u001b[0m\u001b[1;33m(\u001b[0m\u001b[0mimg\u001b[0m\u001b[1;33m,\u001b[0m \u001b[0mkp\u001b[0m\u001b[1;33m,\u001b[0m \u001b[0mcolor\u001b[0m\u001b[1;33m=\u001b[0m\u001b[1;33m(\u001b[0m\u001b[1;36m255\u001b[0m\u001b[1;33m,\u001b[0m\u001b[1;36m0\u001b[0m\u001b[1;33m,\u001b[0m\u001b[1;36m0\u001b[0m\u001b[1;33m)\u001b[0m\u001b[1;33m)\u001b[0m\u001b[1;33m\u001b[0m\u001b[0m\n\u001b[0;32m     13\u001b[0m \u001b[1;33m\u001b[0m\u001b[0m\n",
      "\u001b[1;31mTypeError\u001b[0m: Incorrect type of self (must be 'Feature2D' or its derivative)"
     ]
    }
   ],
   "source": [
    "# Copied from: https://opencv-python-tutroals.readthedocs.io/en/latest/py_tutorials/py_feature2d/py_fast/py_fast.html\n",
    "# The folder with this repo should be in the same folder as the data folder 'WashingtonOBRace'.\n",
    "data_folder = os.path.abspath(os.path.join(os.curdir, '..\\..', 'WashingtonOBRace'))\n",
    "img = cv2.imread(os.path.join(data_folder, 'img_182.png'), 0)  # TODO: look what kwarg 0 does, I think it makes it greyscale.\n",
    "# img = cv2.imread(os.path.join(data_folder, 'img_182.png'))\n",
    "\n",
    "# Initiate FAST object with default values\n",
    "fast = cv2.FastFeatureDetector()\n",
    "\n",
    "# find and draw the keypoints\n",
    "kp = fast.detect(img,None)\n",
    "img2 = cv2.drawKeypoints(img, kp, color=(255,0,0))\n",
    "\n",
    "# Print all default params\n",
    "print(\"Threshold: \", fast.getInt('threshold'))\n",
    "print(\"nonmaxSuppression: \", fast.getBool('nonmaxSuppression'))\n",
    "print(\"neighborhood: \", fast.getInt('type'))\n",
    "print(\"Total Keypoints with nonmaxSuppression: \", len(kp))\n",
    "\n",
    "cv2.imwrite('fast_true.png',img2)\n",
    "\n",
    "# Disable nonmaxSuppression\n",
    "fast.setBool('nonmaxSuppression',0)\n",
    "kp = fast.detect(img,None)\n",
    "\n",
    "print(\"Total Keypoints without nonmaxSuppression: \", len(kp))\n",
    "\n",
    "img3 = cv2.drawKeypoints(img, kp, color=(255,0,0))\n",
    "\n",
    "cv2.imwrite('fast_false.png',img3)"
   ]
  },
  {
   "cell_type": "code",
   "execution_count": 25,
   "id": "alpha-marks",
   "metadata": {},
   "outputs": [
    {
     "data": {
      "text/plain": [
       "array([[[ 93,  86,  78],\n",
       "        [ 93,  86,  78],\n",
       "        [ 93,  86,  78],\n",
       "        ...,\n",
       "        [ 89,  91,  86],\n",
       "        [ 88,  90,  85],\n",
       "        [ 88,  89,  86]],\n",
       "\n",
       "       [[ 92,  86,  79],\n",
       "        [ 94,  86,  79],\n",
       "        [ 93,  86,  78],\n",
       "        ...,\n",
       "        [ 91,  92,  88],\n",
       "        [ 91,  92,  88],\n",
       "        [ 90,  90,  87]],\n",
       "\n",
       "       [[ 90,  86,  79],\n",
       "        [ 91,  85,  79],\n",
       "        [ 92,  86,  79],\n",
       "        ...,\n",
       "        [ 90,  91,  87],\n",
       "        [ 89,  91,  88],\n",
       "        [ 88,  90,  86]],\n",
       "\n",
       "       ...,\n",
       "\n",
       "       [[104, 118, 120],\n",
       "        [104, 118, 120],\n",
       "        [103, 118, 121],\n",
       "        ...,\n",
       "        [196, 233, 238],\n",
       "        [175, 211, 215],\n",
       "        [156, 191, 194]],\n",
       "\n",
       "       [[101, 119, 121],\n",
       "        [100, 118, 121],\n",
       "        [ 99, 119, 122],\n",
       "        ...,\n",
       "        [190, 226, 230],\n",
       "        [168, 204, 208],\n",
       "        [152, 188, 191]],\n",
       "\n",
       "       [[ 97, 118, 121],\n",
       "        [ 95, 118, 121],\n",
       "        [ 95, 119, 122],\n",
       "        ...,\n",
       "        [180, 216, 220],\n",
       "        [164, 200, 204],\n",
       "        [155, 192, 196]]], dtype=uint8)"
      ]
     },
     "execution_count": 25,
     "metadata": {},
     "output_type": "execute_result"
    }
   ],
   "source": [
    "img"
   ]
  }
 ],
 "metadata": {
  "kernelspec": {
   "display_name": "Python 3",
   "language": "python",
   "name": "python3"
  },
  "language_info": {
   "codemirror_mode": {
    "name": "ipython",
    "version": 3
   },
   "file_extension": ".py",
   "mimetype": "text/x-python",
   "name": "python",
   "nbconvert_exporter": "python",
   "pygments_lexer": "ipython3",
   "version": "3.5.6"
  }
 },
 "nbformat": 4,
 "nbformat_minor": 5
}
